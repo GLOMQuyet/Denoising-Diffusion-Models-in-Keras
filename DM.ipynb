{
  "cells": [
    {
      "cell_type": "markdown",
      "metadata": {
        "id": "view-in-github",
        "colab_type": "text"
      },
      "source": [
        "<a href=\"https://colab.research.google.com/github/GLOMQuyet/Denoising-Diffusion-Models-in-Keras/blob/main/DM.ipynb\" target=\"_parent\"><img src=\"https://colab.research.google.com/assets/colab-badge.svg\" alt=\"Open In Colab\"/></a>"
      ]
    },
    {
      "cell_type": "code",
      "execution_count": null,
      "metadata": {
        "colab": {
          "base_uri": "https://localhost:8080/"
        },
        "id": "9sAbFZ21LOlY",
        "outputId": "b5dabf3c-b403-4545-d5d3-14e84ace4534"
      },
      "outputs": [
        {
          "output_type": "stream",
          "name": "stdout",
          "text": [
            "Looking in indexes: https://pypi.org/simple, https://us-python.pkg.dev/colab-wheels/public/simple/\n",
            "Requirement already satisfied: tensorflow_addons in /usr/local/lib/python3.7/dist-packages (0.18.0)\n",
            "Requirement already satisfied: typeguard>=2.7 in /usr/local/lib/python3.7/dist-packages (from tensorflow_addons) (2.7.1)\n",
            "Requirement already satisfied: packaging in /usr/local/lib/python3.7/dist-packages (from tensorflow_addons) (21.3)\n",
            "Requirement already satisfied: pyparsing!=3.0.5,>=2.0.2 in /usr/local/lib/python3.7/dist-packages (from packaging->tensorflow_addons) (3.0.9)\n"
          ]
        }
      ],
      "source": [
        "!pip install tensorflow_addons"
      ]
    },
    {
      "cell_type": "code",
      "execution_count": null,
      "metadata": {
        "id": "7lrMCsYwJmWZ"
      },
      "outputs": [],
      "source": [
        "import tensorflow as tf\n",
        "import tensorflow_addons as tfa\n",
        "import math\n",
        "import tensorflow_datasets as tfds\n",
        "import numpy as np\n",
        "import matplotlib.pyplot as plt\n",
        "%matplotlib inline\n",
        "\n",
        "class SelfAttention(tf.keras.layers.Layer):\n",
        "    def __init__(self, channels,**kwargs):\n",
        "        super(SelfAttention, self).__init__()\n",
        "        self.channels = channels\n",
        "        self.mha = tf.keras.layers.MultiHeadAttention(num_heads = 4,key_dim=self.channels)\n",
        "        self.ln = tf.keras.layers.LayerNormalization()\n",
        "        self.ff_self = tf.keras.Sequential([\n",
        "            tf.keras.layers.LayerNormalization(),\n",
        "            tf.keras.layers.Dense(channels),\n",
        "            tfa.layers.GELU(),\n",
        "            tf.keras.layers.Dense(channels)\n",
        "        ]\n",
        "        )\n",
        "    def build(self,x):\n",
        "        self.reshape1 = tf.keras.layers.Reshape((x[1]*x[2],self.channels))\n",
        "        self.reshape2 = tf.keras.layers.Reshape((x[1],x[2],self.channels))\n",
        "    def call(self, x):\n",
        "\n",
        "        x = self.reshape1(x)\n",
        "        x_ln = self.ln(x)\n",
        "\n",
        "        attention_value = self.mha(x_ln, x_ln, x_ln)\n",
        "        \n",
        "        attention_value = attention_value + x\n",
        "        \n",
        "        attention_value = self.ff_self(attention_value) + attention_value\n",
        "        \n",
        "        return self.reshape2(attention_value)\n"
      ]
    },
    {
      "cell_type": "code",
      "execution_count": null,
      "metadata": {
        "id": "Q7M4vfV1Ss4O"
      },
      "outputs": [],
      "source": [
        "class DoubleConv(tf.keras.layers.Layer):\n",
        "    def __init__(self, out_channels, mid_channels=None, residual=False):\n",
        "        super(DoubleConv,self).__init__()\n",
        "        self.residual = residual\n",
        "        if not mid_channels:\n",
        "            mid_channels = out_channels\n",
        "        self.double_conv = tf.keras.Sequential([\n",
        "            tf.keras.layers.Conv2D(mid_channels, kernel_size=3, padding='same', use_bias=False),\n",
        "            tfa.layers.GroupNormalization(1),\n",
        "            tfa.layers.GELU(),\n",
        "            tf.keras.layers.Conv2D(out_channels, kernel_size=3, padding='same', use_bias=False),\n",
        "            tfa.layers.GroupNormalization(1)\n",
        "        ]\n",
        "        \n",
        "        )\n",
        "        self.gelu = tfa.layers.GELU()\n",
        "\n",
        "    def call(self, x):\n",
        "        if self.residual:\n",
        "            return self.gelu(x + self.double_conv(x))\n",
        "        else:\n",
        "            return self.double_conv(x)\n"
      ]
    },
    {
      "cell_type": "code",
      "execution_count": null,
      "metadata": {
        "id": "H9XFko8Pd1sJ"
      },
      "outputs": [],
      "source": [
        "class SILU(tf.keras.layers.Layer):\n",
        "    def __init__(self,**kwargs):\n",
        "        super(SILU,self).__init__()\n",
        "        self.sigmoid = tf.keras.layers.Activation(\"sigmoid\")\n",
        "    def call(self,x):\n",
        "        theta = 1.0\n",
        "        return x* self.sigmoid(theta*x)"
      ]
    },
    {
      "cell_type": "code",
      "execution_count": null,
      "metadata": {
        "id": "xPc1OsNIceny"
      },
      "outputs": [],
      "source": [
        "\n",
        "class Down(tf.keras.layers.Layer):\n",
        "    def __init__(self, in_channels, out_channels):\n",
        "        super(Down,self).__init__()\n",
        "\n",
        "        self.maxpool_conv = tf.keras.Sequential(\n",
        "            [\n",
        "            tf.keras.layers.MaxPool2D(pool_size=(2,2)),\n",
        "            DoubleConv(in_channels,residual=True),\n",
        "            DoubleConv(out_channels)\n",
        "        ]\n",
        "        )\n",
        "\n",
        "        self.emb_layer = tf.keras.Sequential([\n",
        "            SILU(),\n",
        "            tf.keras.layers.Dense(out_channels)]\n",
        "        )\n",
        "\n",
        "    def repeat(self,t,x):\n",
        "        t = t[:,None,None,:]\n",
        "\n",
        "        t = tf.repeat(t,[x.shape[1]],axis=1)\n",
        "        t = tf.repeat(t,[x.shape[2]],axis=2)\n",
        "        return t\n",
        "    def call(self, x, t):\n",
        "        \n",
        "        x = self.maxpool_conv(x)\n",
        "        t = self.emb_layer(t)\n",
        "        emb =  self.repeat(t,x)\n",
        "\n",
        "        return x + emb"
      ]
    },
    {
      "cell_type": "code",
      "execution_count": null,
      "metadata": {
        "id": "VdvAW-4F0f72"
      },
      "outputs": [],
      "source": [
        "class Up(tf.keras.layers.Layer):\n",
        "    def __init__(self, in_channels, out_channels):\n",
        "        super(Up,self).__init__()\n",
        "\n",
        "        self.up = tf.keras.layers.UpSampling2D(size=2,interpolation=\"bilinear\")\n",
        "        self.conv = tf.keras.Sequential(\n",
        "            [\n",
        "            DoubleConv(in_channels,residual=True),\n",
        "            DoubleConv(out_channels,in_channels//2)\n",
        "        ]\n",
        "        )\n",
        "\n",
        "        self.emb_layer = tf.keras.Sequential([\n",
        "            SILU(),\n",
        "            tf.keras.layers.Dense(out_channels)  \n",
        "        ]\n",
        "        )\n",
        "        self.concat = tf.keras.layers.Concatenate(axis=-1)\n",
        "\n",
        "    def repeat(self,t,x):\n",
        "        t = t[:,None,None,:]\n",
        "\n",
        "        t = tf.repeat(t,[x.shape[1]],axis=1)\n",
        "        t = tf.repeat(t,[x.shape[2]],axis=2)\n",
        "        return t\n",
        "\n",
        "    def call(self, x, skip_x,t):\n",
        "        x = self.up(x)\n",
        "        x = self.concat([skip_x,x])\n",
        "        x = self.conv(x)      \n",
        "        t = self.emb_layer(t)\n",
        "        emb =  self.repeat(t,x)\n",
        "        return x + emb"
      ]
    },
    {
      "cell_type": "code",
      "execution_count": null,
      "metadata": {
        "id": "-JCeQz7fN6WG"
      },
      "outputs": [],
      "source": [
        "class Encoding(tf.keras.layers.Layer):\n",
        "    def __init__(self,**kwargs):\n",
        "        super(Encoding,self).__init__()\n",
        "        \n",
        "    def call(self,t,channels):\n",
        "        inv_freq = 1.0 / (10000 ** (np.arange(start=0, stop = channels, step=2)/ channels))\n",
        "        t = tf.cast(t[...,tf.newaxis],dtype=tf.double)\n",
        "\n",
        "        pos_enc_a = tf.math.sin(inv_freq * tf.repeat(t,repeats=[channels//2],axis=-1))\n",
        "        pos_enc_b = tf.math.cos(inv_freq * tf.repeat(t,repeats=[channels//2],axis=-1))\n",
        "\n",
        "        pos_enc = tf.concat([pos_enc_a, pos_enc_b], axis=-1)\n",
        "        return pos_enc"
      ]
    },
    {
      "cell_type": "code",
      "execution_count": null,
      "metadata": {
        "id": "z3jTLgxlAjef"
      },
      "outputs": [],
      "source": [
        "class UNet(tf.keras.Model):\n",
        "    def __init__(self, c_in=1, c_out=1, time_dim=256,**kwargs):\n",
        "        super(UNet,self).__init__()\n",
        "\n",
        "        self.time_dim = time_dim\n",
        "        self.inc = DoubleConv(64)\n",
        "        self.down1 = Down(64, 128)\n",
        "        self.sa1 = SelfAttention(128)\n",
        "        self.down2 = Down(128, 256)\n",
        "        self.sa2 = SelfAttention(256)\n",
        "        self.down3 = Down(256, 256)\n",
        "\n",
        "        self.bot1 = DoubleConv(512)\n",
        "        self.bot2 = tf.keras.layers.MultiHeadAttention(num_heads = 4,key_dim=512)\n",
        "        self.bot3 = DoubleConv(256)\n",
        "\n",
        "        self.up1 = Up(512, 128)\n",
        "        self.sa3 = SelfAttention(128)\n",
        "        self.up2 = Up(256, 64)\n",
        "        self.sa4 = SelfAttention(64)\n",
        "        self.up3 = Up(128, 64)\n",
        "        self.outc = tf.keras.layers.Conv2D(c_out, kernel_size=1)\n",
        "        self.pos_encoding = Encoding()\n",
        "\n",
        "    def call(self, x, t):\n",
        "        t = self.pos_encoding(t, self.time_dim)\n",
        "        x1 = self.inc(x)\n",
        "        \n",
        "        x2 = self.down1(x1, t)\n",
        "        x2 = self.sa1(x2)\n",
        "        x3 = self.down2(x2, t)\n",
        "        x3 = self.sa2(x3)\n",
        "        x4 = self.down3(x3, t)\n",
        "\n",
        "        x4 = self.bot1(x4)\n",
        "        x4 = self.bot2(x4,x4,x4)\n",
        "        x4 = self.bot3(x4)\n",
        "\n",
        "        x = self.up1(x4, x3, t)\n",
        "        x = self.sa3(x)     \n",
        "        x = self.up2(x, x2, t)\n",
        "        x = self.sa4(x)\n",
        "        x = self.up3(x, x1, t)\n",
        "        output = self.outc(x)\n",
        "        return output"
      ]
    },
    {
      "cell_type": "code",
      "execution_count": null,
      "metadata": {
        "colab": {
          "base_uri": "https://localhost:8080/"
        },
        "id": "HpAGO1LrJAFw",
        "outputId": "9363ddc7-6c68-4f3c-f336-d5dcdcb25bfd"
      },
      "outputs": [
        {
          "output_type": "stream",
          "name": "stdout",
          "text": [
            "(1, 32, 32, 1)\n",
            "Model: \"u_net_2\"\n",
            "_________________________________________________________________\n",
            " Layer (type)                Output Shape              Param #   \n",
            "=================================================================\n",
            " double_conv_30 (DoubleConv)  multiple                 37696     \n",
            "                                                                 \n",
            " down_6 (Down)               multiple                  328576    \n",
            "                                                                 \n",
            " self_attention_8 (SelfAtten  multiple                 297344    \n",
            " tion)                                                           \n",
            "                                                                 \n",
            " down_7 (Down)               multiple                  1246976   \n",
            "                                                                 \n",
            " self_attention_9 (SelfAtten  multiple                 1184512   \n",
            " tion)                                                           \n",
            "                                                                 \n",
            " down_8 (Down)               multiple                  2427136   \n",
            "                                                                 \n",
            " double_conv_37 (DoubleConv)  multiple                 3540992   \n",
            "                                                                 \n",
            " multi_head_attention_12 (Mu  multiple                 4200960   \n",
            " ltiHeadAttention)                                               \n",
            "                                                                 \n",
            " double_conv_38 (DoubleConv)  multiple                 1770496   \n",
            "                                                                 \n",
            " up_6 (Up)                   multiple                  6228864   \n",
            "                                                                 \n",
            " self_attention_10 (SelfAtte  multiple                 297344    \n",
            " ntion)                                                          \n",
            "                                                                 \n",
            " up_7 (Up)                   multiple                  1566144   \n",
            "                                                                 \n",
            " self_attention_11 (SelfAtte  multiple                 74944     \n",
            " ntion)                                                          \n",
            "                                                                 \n",
            " up_8 (Up)                   multiple                  422720    \n",
            "                                                                 \n",
            " conv2d_92 (Conv2D)          multiple                  65        \n",
            "                                                                 \n",
            " encoding_2 (Encoding)       multiple                  0         \n",
            "                                                                 \n",
            "=================================================================\n",
            "Total params: 23,624,769\n",
            "Trainable params: 23,624,769\n",
            "Non-trainable params: 0\n",
            "_________________________________________________________________\n"
          ]
        }
      ],
      "source": [
        "if __name__ == '__main__':\n",
        "    net = UNet()\n",
        "    x = np.random.randn(1,32,32,1)\n",
        "    t = tf.constant([500] * x.shape[0])\n",
        "    print(net(x, t).shape)\n",
        "    net.summary()"
      ]
    },
    {
      "cell_type": "code",
      "execution_count": null,
      "metadata": {
        "id": "SlJ2RXpdhSDt"
      },
      "outputs": [],
      "source": [
        "# HYPARAMETER\n",
        "\n",
        "# data\n",
        "num_epochs = 20  # train for at least 50 epochs for good results\n",
        "image_size = 32\n",
        "\n",
        "# optimization\n",
        "batch_size = 256\n",
        "learning_rate = 1e-3\n",
        "weight_decay = 1e-4\n",
        "\n",
        "# model\n",
        "timesteps = 500\n",
        "a_min = 0.0001\n",
        "a_max = 0.02\n",
        "\n",
        "# create a fixed beta schedule\n",
        "beta = np.linspace(a_min,a_max, timesteps+1)\n",
        "\n",
        "# this will be used as discussed in the reparameterization trick\n",
        "alpha = 1 - beta\n",
        "alpha_bar = np.cumprod(alpha, 0)\n",
        "alpha_bar = np.concatenate((np.array([1.]), alpha_bar[:-1]), axis=0)\n",
        "sqrt_alpha_bar = np.sqrt(alpha_bar)\n",
        "one_minus_sqrt_alpha_bar = np.sqrt(1-alpha_bar)\n",
        "\n",
        "(x_train, y_train), (x_test, y_test) = tf.keras.datasets.fashion_mnist.load_data()"
      ]
    },
    {
      "cell_type": "code",
      "execution_count": null,
      "metadata": {
        "id": "X4S9AqSElUi9"
      },
      "outputs": [],
      "source": [
        "class DataGenerator(tf.keras.utils.Sequence):\n",
        "    def __init__(self,img_paths,image_size,batch_size,dim=(28,28),n_channels=1,shuffle=True):\n",
        "        self.dim = dim\n",
        "        self.batch_size = batch_size\n",
        "        self.image_size = [image_size,image_size]\n",
        "        self.img_paths = img_paths\n",
        "        self.n_channels = n_channels\n",
        "        self.shuffle = shuffle\n",
        "        self.img_indexes = np.arange(len(self.img_paths))\n",
        "        self.on_epoch_end()\n",
        "        \n",
        "    def __len__(self):\n",
        "        'Denotes the number of batches per epoch'\n",
        "        return int(np.floor(len(self.img_indexes) / self.batch_size))\n",
        "\n",
        "    def __getitem__(self, index):\n",
        "        'Generate one batch of data'\n",
        "        # Generate indexes of the batch\n",
        "        indexes = self.indexes[index*self.batch_size:(index+1)*self.batch_size]\n",
        "\n",
        "        # Find list of IDs\n",
        "        list_IDs_temps = [self.img_indexes[k] for k in indexes]\n",
        "\n",
        "        # Generate data\n",
        "        X = self.__data_generation(list_IDs_temps)\n",
        "        return X\n",
        "    def on_epoch_end(self):\n",
        "        'Updates indexes after each epoch'\n",
        "        self.indexes = np.arange(len(self.img_paths))\n",
        "        if self.shuffle == True:\n",
        "            np.random.shuffle(self.indexes)\n",
        "    def __data_generation(self, list_IDs_temps):\n",
        "        X = np.empty((self.batch_size, *self.dim))\n",
        "\n",
        "        for i, ID in enumerate(list_IDs_temps):\n",
        "            X[i,] = self.img_paths[ID]\n",
        "        X = X[:,:,:, np.newaxis]\n",
        "        X = tf.image.resize(X,size = self.image_size)\n",
        "        X = tf.cast(X/255.0,dtype=tf.float32)\n",
        "        return X"
      ]
    },
    {
      "cell_type": "code",
      "execution_count": null,
      "metadata": {
        "id": "jgiTi0B4yNR2"
      },
      "outputs": [],
      "source": [
        "class Forward_Noise(tf.keras.layers.Layer):\n",
        "\n",
        "  def __init__(self,sqrt_alpha_bar,one_minus_sqrt_alpha_bar,**kwargs):\n",
        "    super(Forward_Noise,self).__init__(**kwargs)\n",
        "    self.sqrt_alpha_bar = sqrt_alpha_bar\n",
        "    self.one_minus_sqrt_alpha_bar = one_minus_sqrt_alpha_bar\n",
        "\n",
        "  def forward_noise(self,x_0,t):\n",
        "    noise = tf.random.normal(x_0.shape)\n",
        "    reshaped_sqrt_alpha_bar_t = tf.cast(tf.experimental.numpy.reshape(tf.experimental.numpy.take(self.sqrt_alpha_bar, t), (-1, 1, 1, 1)),tf.float32)\n",
        "    reshaped_one_minus_sqrt_alpha_bar_t = tf.cast(tf.experimental.numpy.reshape(tf.experimental.numpy.take(self.one_minus_sqrt_alpha_bar, t), (-1, 1, 1, 1)),tf.float32)\n",
        "    noisy_image = reshaped_sqrt_alpha_bar_t  * x_0 + reshaped_one_minus_sqrt_alpha_bar_t  * noise\n",
        "    return noisy_image,noise\n",
        "\n",
        "  def call(self,x_0,t):\n",
        "    noise_img,noise = self.forward_noise(x_0,t)\n",
        "    return noise_img,noise\n"
      ]
    },
    {
      "cell_type": "code",
      "execution_count": null,
      "metadata": {
        "id": "bvS5pYly6MxF"
      },
      "outputs": [],
      "source": [
        "class Generator(tf.keras.layers.Layer):\n",
        "  def __init__(self,timesteps,**kwargs):\n",
        "    super(Generator,self).__init__()\n",
        "    self.timesteps = timesteps\n",
        "    \n",
        "  def generate_timestamp(self,num):\n",
        "    return tf.random.uniform(shape=[num], minval=0, maxval=self.timesteps, dtype=tf.int32)\n",
        "  def call(self,x):\n",
        "    x = self.generate_timestamp(x)\n",
        "    return x"
      ]
    },
    {
      "cell_type": "code",
      "execution_count": null,
      "metadata": {
        "colab": {
          "base_uri": "https://localhost:8080/",
          "height": 187
        },
        "id": "si5sJgKKHPUR",
        "outputId": "cf5ad16c-be57-47c8-aaa3-2c360c7887c4"
      },
      "outputs": [
        {
          "output_type": "display_data",
          "data": {
            "text/plain": [
              "<Figure size 2304x3600 with 11 Axes>"
            ],
            "image/png": "[encoded data removed]"
          },
          "metadata": {
            "needs_background": "light"
          }
        }
      ],
      "source": [
        "forward_noise = Forward_Noise(sqrt_alpha_bar,one_minus_sqrt_alpha_bar)\n",
        "generate_timestamp = Generator(timesteps)\n",
        "train_generator = DataGenerator(x_train, image_size = image_size,batch_size =batch_size,shuffle=True)\n",
        "val_generator = DataGenerator(x_test,image_size = image_size,batch_size=batch_size,shuffle=True)\n",
        "# Let us visualize the output image at a few timestamps\n",
        "sample_mnist = train_generator.__getitem__(1)[0]\n",
        "fig = plt.figure(figsize=(32,50))\n",
        "\n",
        "for index, i in enumerate([0,50,100,150,200,250,300,350,400,450,500]):\n",
        "    noisy_im, noise = forward_noise(sample_mnist, np.array([i,]))\n",
        "    plt.subplot(1, 11, index+1)\n",
        "    plt.imshow(np.squeeze(noisy_im))\n",
        "plt.show()\n"
      ]
    },
    {
      "cell_type": "code",
      "execution_count": null,
      "metadata": {
        "colab": {
          "base_uri": "https://localhost:8080/"
        },
        "id": "VFehU2e8k0e2",
        "outputId": "5d389692-dc9b-4338-b17b-ca035909e1f3"
      },
      "outputs": [
        {
          "output_type": "stream",
          "name": "stdout",
          "text": [
            "Restored from ./checkpoints/ckpt-4\n"
          ]
        }
      ],
      "source": [
        "# create our checkopint manager\n",
        "ckpt = tf.train.Checkpoint(net=net)\n",
        "ckpt_manager = tf.train.CheckpointManager(ckpt, \"./checkpoints\", max_to_keep=2)\n",
        "\n",
        "# load from a previous checkpoint if it exists, else initialize the model from scratch\n",
        "\n",
        "if ckpt_manager.latest_checkpoint:\n",
        "    ckpt.restore(ckpt_manager.latest_checkpoint)\n",
        "    start_interation = int(ckpt_manager.latest_checkpoint.split(\"-\")[-1])\n",
        "    print(\"Restored from {}\".format(ckpt_manager.latest_checkpoint))\n",
        "else:\n",
        "    print(\"Initializing from scratch.\")\n",
        "\n",
        "loss_fn = tf.keras.losses.MeanSquaredError()\n",
        "# Prepare the metrics.\n",
        "train_acc_metric = tf.keras.metrics.MeanSquaredError('mse train')\n",
        "val_acc_metric = tf.keras.metrics.MeanSquaredError('mse val')\n",
        "# Optimizers\n",
        "opt = tfa.optimizers.AdamW(\n",
        "        learning_rate=learning_rate, weight_decay=weight_decay)"
      ]
    },
    {
      "cell_type": "code",
      "execution_count": null,
      "metadata": {
        "id": "NZQtLDZmlBx4"
      },
      "outputs": [],
      "source": [
        "@tf.function\n",
        "def train_step(batch):   \n",
        "    timestep_values = generate_timestamp(batch.shape[0])\n",
        "    noised_image, noise = forward_noise(batch, timestep_values)\n",
        "    with tf.GradientTape() as tape:\n",
        "        prediction = net(noised_image, timestep_values)\n",
        "        \n",
        "        loss_value = loss_fn(noise, prediction)\n",
        "    \n",
        "    gradients = tape.gradient(loss_value, net.trainable_variables)\n",
        "    opt.apply_gradients(zip(gradients, net.trainable_variables))\n",
        "    train_acc_metric.update_state(noise,prediction)\n",
        "    return loss_value\n",
        "\n",
        "@tf.function\n",
        "def test_step(batch):\n",
        "    timestep_values = generate_timestamp(batch.shape[0])\n",
        "\n",
        "    noised_image, noise = forward_noise(batch, timestep_values)\n",
        "    \n",
        "    prediction = net(noised_image, timestep_values)\n",
        "    loss_value = loss_fn(noise, prediction)\n",
        "    # Update training metric.\n",
        "    val_acc_metric.update_state(noise,prediction)\n",
        "    return loss_value"
      ]
    },
    {
      "cell_type": "code",
      "execution_count": null,
      "metadata": {
        "colab": {
          "base_uri": "https://localhost:8080/",
          "height": 464,
          "referenced_widgets": [
            "ac56e60f3f0047518265e45e7896f8b2",
            "9f05903d503e491db7d3f76f9896331f",
            "a17c9a2958524330b3122a5e82fa185b",
            "3363c5c0b80c4c8e95ed0bb5223aa975",
            "854acb56994a47a8a07c12d7b348f873",
            "8ce626f75846497f87385c8daa0a8156",
            "5f2fbb9dcc5d456fb9b4f4c9135cec6d",
            "f0be3e506c5d4d68b6c7a8b4f3e65390",
            "7b5556e95b814638897bafdc5f99caf7",
            "f92396681e5d4a609b28b976b10dbaa8",
            "ff99af5323ae42138ad8dfb5a68a4625"
          ]
        },
        "id": "Ny2VXnoAlGJZ",
        "outputId": "590d4549-a42c-4a3a-b60e-3c908921b5f3"
      },
      "outputs": [
        {
          "data": {
            "application/vnd.jupyter.widget-view+json": {
              "model_id": "ac56e60f3f0047518265e45e7896f8b2",
              "version_major": 2,
              "version_minor": 0
            },
            "text/plain": [
              "  0%|          | 0/20 [00:00<?, ?it/s]"
            ]
          },
          "metadata": {},
          "output_type": "display_data"
        },
        {
          "metadata": {
            "tags": null
          },
          "name": "stdout",
          "output_type": "stream",
          "text": [
            "\n",
            "Start of epoch 0\n",
            "Training MSE: 0.1236\n",
            "Validation MSE: 0.0457\n",
            "Time taken: 268.81s\n",
            "\n",
            "Start of epoch 1\n",
            "Training MSE: 0.0413\n",
            "Validation MSE: 0.0392\n",
            "Time taken: 245.99s\n",
            "\n",
            "Start of epoch 2\n",
            "Training MSE: 0.0383\n",
            "Validation MSE: 0.0362\n",
            "Time taken: 246.62s\n",
            "\n",
            "Start of epoch 3\n",
            "Training MSE: 0.0357\n",
            "Validation MSE: 0.0333\n",
            "Time taken: 247.02s\n",
            "\n",
            "Start of epoch 4\n"
          ]
        }
      ],
      "source": [
        "from tqdm.notebook import trange\n",
        "import time\n",
        "for e in trange(num_epochs): \n",
        "    print(\"\\nStart of epoch %d\" % (e,))\n",
        "    start_time = time.time()\n",
        "    \n",
        "    # this is cool utility in Tensorflow that will create a nice looking progress bar\n",
        "    for i, batch in enumerate(iter(train_generator)):\n",
        "        # run the training loop\n",
        "        loss = train_step(batch)\n",
        "\n",
        "     # Display metrics at the end of each epoch.\n",
        "    train_acc = train_acc_metric.result()\n",
        "\n",
        "    print(\"Training MSE: %.4f\" % (float(train_acc),))\n",
        "    # Reset training metrics at the end of each epoch\n",
        "    train_acc_metric.reset_states()\n",
        "    \n",
        "    for i, batch in enumerate(iter(val_generator)):\n",
        "        # run the training loop\n",
        "        val_loss = test_step(batch)\n",
        "    val_acc = val_acc_metric.result()\n",
        "    val_acc_metric.reset_states()\n",
        "        \n",
        "    print(\"Validation MSE: %.4f\" % (float(val_acc),))\n",
        "    # print(\"validation KID: %.4f\" % (float(val_kid),))\n",
        "    print(\"Time taken: %.2fs\" % (time.time() - start_time))\n",
        "    \n",
        "    ckpt_manager.save(checkpoint_number=e)"
      ]
    },
    {
      "cell_type": "code",
      "execution_count": null,
      "metadata": {
        "id": "0vh41YRLlGyd"
      },
      "outputs": [],
      "source": [
        "# Save a GIF using logged images\n",
        "from PIL import Image\n",
        "def save_gif(img_list, path=\"\", interval=500):\n",
        "    # Transform images from [-1,1] to [0, 255]\n",
        "    imgs = []\n",
        "    for im in img_list:\n",
        "        im = np.array(im)\n",
        "        im = (im + 1) * 127.5\n",
        "        im = np.clip(im, 0, 255).astype(np.int32)\n",
        "        im = Image.fromarray(im) \n",
        "        imgs.append(im)\n",
        "    \n",
        "    imgs = iter(imgs)\n",
        "\n",
        "    # Extract first image from iterator\n",
        "    img = next(imgs)\n",
        "\n",
        "    # Append the other images and save as GIF\n",
        "    img.save(fp=path, format='GIF', append_images=imgs,\n",
        "             save_all=True, duration=interval, loop=0)"
      ]
    },
    {
      "cell_type": "code",
      "execution_count": null,
      "metadata": {
        "id": "DMqPEUUJlL1J"
      },
      "outputs": [],
      "source": [
        "def ddpm(x_t, pred_noise, t):\n",
        "    alpha_t = np.take(alpha, t)\n",
        "    alpha_t_bar = np.take(alpha_bar, t)\n",
        "\n",
        "    eps_coef = (1 - alpha_t) / (1 - alpha_t_bar) ** .5\n",
        "    mean = (1 / (alpha_t ** .5)) * (x_t - eps_coef * pred_noise)\n",
        "\n",
        "    var = np.take(beta, t) \n",
        "    z = np.random.normal(size=x_t.shape)\n",
        "\n",
        "    return mean + (var ** .5) * z"
      ]
    },
    {
      "cell_type": "code",
      "execution_count": null,
      "metadata": {
        "id": "FvPwyaMtlNs9"
      },
      "outputs": [],
      "source": [
        "from tqdm import tqdm\n",
        "x = tf.random.normal((1,32,32,1))\n",
        "img_list = []\n",
        "img_list.append(np.squeeze(np.squeeze(x, 0),-1))\n",
        "for i in tqdm(range(timesteps)):\n",
        "    t = np.expand_dims(np.array(timesteps-i, np.int32), 0)  \n",
        "    pred_noise = net(x, t)\n",
        "    x = ddpm(x, pred_noise, t)\n",
        "    \n",
        "    img_list.append(np.squeeze(np.squeeze(x, 0),-1))\n",
        "    if i % 25==0:\n",
        "        img = np.squeeze(x[0])\n",
        "        plt.imshow(np.array(np.clip((img + 1) * 127.5, 0, 255), np.uint8))\n",
        "        plt.show()\n",
        "save_gif(img_list + ([img_list[-1]] * 100), \"ddpm.gif\", interval=20)\n",
        "plt.imshow(np.array(np.clip(img,a_min=0, a_max=255)))\n",
        "plt.show()"
      ]
    },
    {
      "cell_type": "code",
      "execution_count": null,
      "metadata": {
        "id": "c7X1_vccyITt"
      },
      "outputs": [],
      "source": []
    }
  ],
  "metadata": {
    "accelerator": "GPU",
    "colab": {
      "collapsed_sections": [],
      "provenance": [],
      "include_colab_link": true
    },
    "kernelspec": {
      "display_name": "Python 3",
      "language": "python",
      "name": "python3"
    },
    "language_info": {
      "codemirror_mode": {
        "name": "ipython",
        "version": 3
      },
      "file_extension": ".py",
      "mimetype": "text/x-python",
      "name": "python",
      "nbconvert_exporter": "python",
      "pygments_lexer": "ipython3",
      "version": "3.7.12"
    },
    "widgets": {
      "application/vnd.jupyter.widget-state+json": {
        "ac56e60f3f0047518265e45e7896f8b2": {
          "model_module": "@jupyter-widgets/controls",
          "model_name": "HBoxModel",
          "model_module_version": "1.5.0",
          "state": {
            "_dom_classes": [],
            "_model_module": "@jupyter-widgets/controls",
            "_model_module_version": "1.5.0",
            "_model_name": "HBoxModel",
            "_view_count": null,
            "_view_module": "@jupyter-widgets/controls",
            "_view_module_version": "1.5.0",
            "_view_name": "HBoxView",
            "box_style": "",
            "children": [
              "IPY_MODEL_9f05903d503e491db7d3f76f9896331f",
              "IPY_MODEL_a17c9a2958524330b3122a5e82fa185b",
              "IPY_MODEL_3363c5c0b80c4c8e95ed0bb5223aa975"
            ],
            "layout": "IPY_MODEL_854acb56994a47a8a07c12d7b348f873"
          }
        },
        "9f05903d503e491db7d3f76f9896331f": {
          "model_module": "@jupyter-widgets/controls",
          "model_name": "HTMLModel",
          "model_module_version": "1.5.0",
          "state": {
            "_dom_classes": [],
            "_model_module": "@jupyter-widgets/controls",
            "_model_module_version": "1.5.0",
            "_model_name": "HTMLModel",
            "_view_count": null,
            "_view_module": "@jupyter-widgets/controls",
            "_view_module_version": "1.5.0",
            "_view_name": "HTMLView",
            "description": "",
            "description_tooltip": null,
            "layout": "IPY_MODEL_8ce626f75846497f87385c8daa0a8156",
            "placeholder": "​",
            "style": "IPY_MODEL_5f2fbb9dcc5d456fb9b4f4c9135cec6d",
            "value": " 20%"
          }
        },
        "a17c9a2958524330b3122a5e82fa185b": {
          "model_module": "@jupyter-widgets/controls",
          "model_name": "FloatProgressModel",
          "model_module_version": "1.5.0",
          "state": {
            "_dom_classes": [],
            "_model_module": "@jupyter-widgets/controls",
            "_model_module_version": "1.5.0",
            "_model_name": "FloatProgressModel",
            "_view_count": null,
            "_view_module": "@jupyter-widgets/controls",
            "_view_module_version": "1.5.0",
            "_view_name": "ProgressView",
            "bar_style": "",
            "description": "",
            "description_tooltip": null,
            "layout": "IPY_MODEL_f0be3e506c5d4d68b6c7a8b4f3e65390",
            "max": 20,
            "min": 0,
            "orientation": "horizontal",
            "style": "IPY_MODEL_7b5556e95b814638897bafdc5f99caf7",
            "value": 4
          }
        },
        "3363c5c0b80c4c8e95ed0bb5223aa975": {
          "model_module": "@jupyter-widgets/controls",
          "model_name": "HTMLModel",
          "model_module_version": "1.5.0",
          "state": {
            "_dom_classes": [],
            "_model_module": "@jupyter-widgets/controls",
            "_model_module_version": "1.5.0",
            "_model_name": "HTMLModel",
            "_view_count": null,
            "_view_module": "@jupyter-widgets/controls",
            "_view_module_version": "1.5.0",
            "_view_name": "HTMLView",
            "description": "",
            "description_tooltip": null,
            "layout": "IPY_MODEL_f92396681e5d4a609b28b976b10dbaa8",
            "placeholder": "​",
            "style": "IPY_MODEL_ff99af5323ae42138ad8dfb5a68a4625",
            "value": " 4/20 [16:49&lt;1:06:38, 249.94s/it]"
          }
        },
        "854acb56994a47a8a07c12d7b348f873": {
          "model_module": "@jupyter-widgets/base",
          "model_name": "LayoutModel",
          "model_module_version": "1.2.0",
          "state": {
            "_model_module": "@jupyter-widgets/base",
            "_model_module_version": "1.2.0",
            "_model_name": "LayoutModel",
            "_view_count": null,
            "_view_module": "@jupyter-widgets/base",
            "_view_module_version": "1.2.0",
            "_view_name": "LayoutView",
            "align_content": null,
            "align_items": null,
            "align_self": null,
            "border": null,
            "bottom": null,
            "display": null,
            "flex": null,
            "flex_flow": null,
            "grid_area": null,
            "grid_auto_columns": null,
            "grid_auto_flow": null,
            "grid_auto_rows": null,
            "grid_column": null,
            "grid_gap": null,
            "grid_row": null,
            "grid_template_areas": null,
            "grid_template_columns": null,
            "grid_template_rows": null,
            "height": null,
            "justify_content": null,
            "justify_items": null,
            "left": null,
            "margin": null,
            "max_height": null,
            "max_width": null,
            "min_height": null,
            "min_width": null,
            "object_fit": null,
            "object_position": null,
            "order": null,
            "overflow": null,
            "overflow_x": null,
            "overflow_y": null,
            "padding": null,
            "right": null,
            "top": null,
            "visibility": null,
            "width": null
          }
        },
        "8ce626f75846497f87385c8daa0a8156": {
          "model_module": "@jupyter-widgets/base",
          "model_name": "LayoutModel",
          "model_module_version": "1.2.0",
          "state": {
            "_model_module": "@jupyter-widgets/base",
            "_model_module_version": "1.2.0",
            "_model_name": "LayoutModel",
            "_view_count": null,
            "_view_module": "@jupyter-widgets/base",
            "_view_module_version": "1.2.0",
            "_view_name": "LayoutView",
            "align_content": null,
            "align_items": null,
            "align_self": null,
            "border": null,
            "bottom": null,
            "display": null,
            "flex": null,
            "flex_flow": null,
            "grid_area": null,
            "grid_auto_columns": null,
            "grid_auto_flow": null,
            "grid_auto_rows": null,
            "grid_column": null,
            "grid_gap": null,
            "grid_row": null,
            "grid_template_areas": null,
            "grid_template_columns": null,
            "grid_template_rows": null,
            "height": null,
            "justify_content": null,
            "justify_items": null,
            "left": null,
            "margin": null,
            "max_height": null,
            "max_width": null,
            "min_height": null,
            "min_width": null,
            "object_fit": null,
            "object_position": null,
            "order": null,
            "overflow": null,
            "overflow_x": null,
            "overflow_y": null,
            "padding": null,
            "right": null,
            "top": null,
            "visibility": null,
            "width": null
          }
        },
        "5f2fbb9dcc5d456fb9b4f4c9135cec6d": {
          "model_module": "@jupyter-widgets/controls",
          "model_name": "DescriptionStyleModel",
          "model_module_version": "1.5.0",
          "state": {
            "_model_module": "@jupyter-widgets/controls",
            "_model_module_version": "1.5.0",
            "_model_name": "DescriptionStyleModel",
            "_view_count": null,
            "_view_module": "@jupyter-widgets/base",
            "_view_module_version": "1.2.0",
            "_view_name": "StyleView",
            "description_width": ""
          }
        },
        "f0be3e506c5d4d68b6c7a8b4f3e65390": {
          "model_module": "@jupyter-widgets/base",
          "model_name": "LayoutModel",
          "model_module_version": "1.2.0",
          "state": {
            "_model_module": "@jupyter-widgets/base",
            "_model_module_version": "1.2.0",
            "_model_name": "LayoutModel",
            "_view_count": null,
            "_view_module": "@jupyter-widgets/base",
            "_view_module_version": "1.2.0",
            "_view_name": "LayoutView",
            "align_content": null,
            "align_items": null,
            "align_self": null,
            "border": null,
            "bottom": null,
            "display": null,
            "flex": null,
            "flex_flow": null,
            "grid_area": null,
            "grid_auto_columns": null,
            "grid_auto_flow": null,
            "grid_auto_rows": null,
            "grid_column": null,
            "grid_gap": null,
            "grid_row": null,
            "grid_template_areas": null,
            "grid_template_columns": null,
            "grid_template_rows": null,
            "height": null,
            "justify_content": null,
            "justify_items": null,
            "left": null,
            "margin": null,
            "max_height": null,
            "max_width": null,
            "min_height": null,
            "min_width": null,
            "object_fit": null,
            "object_position": null,
            "order": null,
            "overflow": null,
            "overflow_x": null,
            "overflow_y": null,
            "padding": null,
            "right": null,
            "top": null,
            "visibility": null,
            "width": null
          }
        },
        "7b5556e95b814638897bafdc5f99caf7": {
          "model_module": "@jupyter-widgets/controls",
          "model_name": "ProgressStyleModel",
          "model_module_version": "1.5.0",
          "state": {
            "_model_module": "@jupyter-widgets/controls",
            "_model_module_version": "1.5.0",
            "_model_name": "ProgressStyleModel",
            "_view_count": null,
            "_view_module": "@jupyter-widgets/base",
            "_view_module_version": "1.2.0",
            "_view_name": "StyleView",
            "bar_color": null,
            "description_width": ""
          }
        },
        "f92396681e5d4a609b28b976b10dbaa8": {
          "model_module": "@jupyter-widgets/base",
          "model_name": "LayoutModel",
          "model_module_version": "1.2.0",
          "state": {
            "_model_module": "@jupyter-widgets/base",
            "_model_module_version": "1.2.0",
            "_model_name": "LayoutModel",
            "_view_count": null,
            "_view_module": "@jupyter-widgets/base",
            "_view_module_version": "1.2.0",
            "_view_name": "LayoutView",
            "align_content": null,
            "align_items": null,
            "align_self": null,
            "border": null,
            "bottom": null,
            "display": null,
            "flex": null,
            "flex_flow": null,
            "grid_area": null,
            "grid_auto_columns": null,
            "grid_auto_flow": null,
            "grid_auto_rows": null,
            "grid_column": null,
            "grid_gap": null,
            "grid_row": null,
            "grid_template_areas": null,
            "grid_template_columns": null,
            "grid_template_rows": null,
            "height": null,
            "justify_content": null,
            "justify_items": null,
            "left": null,
            "margin": null,
            "max_height": null,
            "max_width": null,
            "min_height": null,
            "min_width": null,
            "object_fit": null,
            "object_position": null,
            "order": null,
            "overflow": null,
            "overflow_x": null,
            "overflow_y": null,
            "padding": null,
            "right": null,
            "top": null,
            "visibility": null,
            "width": null
          }
        },
        "ff99af5323ae42138ad8dfb5a68a4625": {
          "model_module": "@jupyter-widgets/controls",
          "model_name": "DescriptionStyleModel",
          "model_module_version": "1.5.0",
          "state": {
            "_model_module": "@jupyter-widgets/controls",
            "_model_module_version": "1.5.0",
            "_model_name": "DescriptionStyleModel",
            "_view_count": null,
            "_view_module": "@jupyter-widgets/base",
            "_view_module_version": "1.2.0",
            "_view_name": "StyleView",
            "description_width": ""
          }
        }
      }
    }
  },
  "nbformat": 4,
  "nbformat_minor": 0
}